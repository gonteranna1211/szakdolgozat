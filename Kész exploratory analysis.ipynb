{
 "cells": [
  {
   "cell_type": "code",
   "execution_count": null,
   "metadata": {},
   "outputs": [],
   "source": [
    "# A használt könyvtárak beolvasása\n",
    "import pandas as pd\n",
    "import numpy as np\n",
    "import matplotlib.pyplot as plt\n",
    "import seaborn as sns; sns.set(style=\"whitegrid\")\n",
    "from collections import Counter"
   ]
  },
  {
   "cell_type": "code",
   "execution_count": null,
   "metadata": {},
   "outputs": [],
   "source": [
    "# Az adatkészletek beolvasása\n",
    "train_data = pd.read_csv('train.csv', delimiter=',')\n",
    "test_data=pd.read_csv('test.csv', delimiter=',')"
   ]
  },
  {
   "cell_type": "code",
   "execution_count": null,
   "metadata": {},
   "outputs": [],
   "source": [
    "# A tanuló adatok leírása\n",
    "train_data.describe()"
   ]
  },
  {
   "cell_type": "code",
   "execution_count": null,
   "metadata": {},
   "outputs": [],
   "source": [
    "# A tesztelő adatok leírása\n",
    "test_data.describe()"
   ]
  },
  {
   "cell_type": "code",
   "execution_count": null,
   "metadata": {},
   "outputs": [],
   "source": [
    "len(test_data)"
   ]
  },
  {
   "cell_type": "code",
   "execution_count": null,
   "metadata": {},
   "outputs": [],
   "source": [
    "len(train_data)"
   ]
  },
  {
   "cell_type": "code",
   "execution_count": null,
   "metadata": {},
   "outputs": [],
   "source": [
    "# Nan értékek száma az oszlopokban\n",
    "sns.heatmap(train_data.isnull())\n",
    "plt.savefig(\"nan_columns.jpg\")\n",
    "\n",
    "# Nan értékek pontos száma\n",
    "print(sum(pd.isnull(train_data['orig_destination_distance'])))\n",
    "print(sum(pd.isnull(train_data['srch_ci'])))\n",
    "print(sum(pd.isnull(train_data['srch_co'])))"
   ]
  },
  {
   "cell_type": "code",
   "execution_count": null,
   "metadata": {},
   "outputs": [],
   "source": [
    "print(\"Foglalások száma:\\t\", len(train_data[train_data['is_booking'].isin([1])])) #történt foglalás\n",
    "print(\"Keresések száma:\\t\", len(train_data[train_data['is_booking'].isin([0])])) #csak keresés történt\n",
    "\n",
    "sns.countplot(train_data['is_booking'])\n",
    "plt.savefig('is_booking.jpg')"
   ]
  },
  {
   "cell_type": "code",
   "execution_count": null,
   "metadata": {},
   "outputs": [],
   "source": [
    "print(\"Telefonos keresések:\\t\", len(train_data[train_data['is_mobile'].isin([1])])) #telefonról történő keresés\n",
    "print(\"Egyéb keresések:\\t\", len(train_data[train_data['is_mobile'].isin([0])])) #nem telefonról történő keresés\n",
    "\n",
    "sns.countplot(train_data['is_mobile'])\n",
    "plt.savefig('is_mobile.jpg')"
   ]
  },
  {
   "cell_type": "code",
   "execution_count": null,
   "metadata": {},
   "outputs": [],
   "source": [
    "print(\"Csomagban történő foglalás/keresés:\\t\", len(train_data[train_data['is_package'].isin([1])])) #csomagban történt foglalás/keresés\n",
    "print(\"Nem csomagban történő foglalás/keresés:\\t\", len(train_data[train_data['is_package'].isin([0])])) #nem csomagban történt foglalás/keresés\n",
    "\n",
    "sns.countplot(train_data['is_package'])\n",
    "plt.savefig('is_package.jpg')"
   ]
  },
  {
   "cell_type": "code",
   "execution_count": null,
   "metadata": {},
   "outputs": [],
   "source": [
    "# Keresési dátumok szétbontása év, hónap, napra\n",
    "train_data[[\"search_year\", \"search_mm\", \"day-time\"]] = train_data[\"date_time\"].str.split(\"-\", expand=True)\n",
    "train_data[[\"search_day\", \"time\"]] = train_data[\"day-time\"].str.split(\" \", expand=True)\n",
    "train_data[[\"srch_ci_year\", \"srch_ci_mm\", \"srch_ci_day\"]] = train_data[\"srch_ci\"].str.split(\"-\", expand=True)\n",
    "train_data = train_data.drop(columns=['day-time', 'time'])"
   ]
  },
  {
   "cell_type": "code",
   "execution_count": null,
   "metadata": {},
   "outputs": [],
   "source": [
    "# Hónapokból évszakok kiszámítása\n",
    "def get_season(mm=\"\"):\n",
    "    if type(mm)==float:\n",
    "        return None\n",
    "    else:\n",
    "        mm=int(mm)\n",
    "    seasons={\n",
    "        \"winter\": [12,1,2],\n",
    "        \"spring\": [3,4,5],\n",
    "        \"summer\": [6,7,8],\n",
    "        \"autumn\": [9,10,11]\n",
    "    }\n",
    "    for season in seasons.keys():\n",
    "        if mm in seasons[season]:\n",
    "            return season\n",
    "\n",
    "train_data['srch_ci_season']=train_data['srch_ci_mm'].apply(lambda x: get_season(x))"
   ]
  },
  {
   "cell_type": "code",
   "execution_count": null,
   "metadata": {},
   "outputs": [],
   "source": [
    "def calc_duration(fromDate, toDate):\n",
    "    if type(fromDate) != float and type(toDate) != float:\n",
    "        return (pd.Timestamp(fromDate) - pd.Timestamp(toDate)).days\n",
    "    else:\n",
    "        return None\n",
    "\n",
    "train_data['stay_duration_day'] = train_data.apply(lambda x: calc_duration(x['srch_co'], x['srch_ci']),axis=1)\n",
    "train_data['search_duration_day'] = train_data.apply(lambda x: calc_duration(x['srch_ci'], x['date_time']), axis=1)"
   ]
  },
  {
   "cell_type": "code",
   "execution_count": null,
   "metadata": {},
   "outputs": [],
   "source": [
    "# Null adatok kitörlése\n",
    "train_data[train_data['stay_duration_day'] <= 0] = None\n",
    "train_data[train_data['search_duration_day'] < 0] = None"
   ]
  },
  {
   "cell_type": "code",
   "execution_count": null,
   "metadata": {},
   "outputs": [],
   "source": [
    "# Összegzése a foglalt éjszakák számának\n",
    "for i in range(1,367):\n",
    "    d = Counter(train_data['stay_duration_day'])\n",
    "    print(i, \": \", d[i])\n",
    "print(sum(pd.isnull(train_data['stay_duration_day'])))"
   ]
  },
  {
   "cell_type": "code",
   "execution_count": null,
   "metadata": {},
   "outputs": [],
   "source": [
    "plt.figure(figsize=(50,20))\n",
    "\n",
    "for x in train_data.columns:\n",
    "    if x not in ['date_time', 'orig_destination_distance', 'srch_ci', 'srch_co', 'is_package', 'is_mobile', 'is_booking']:\n",
    "        print(x + '\\n')\n",
    "        sns.countplot(train_data[x], palette=\"Set2\")\n",
    "        plt.savefig(\"{name}.jpg\".format(name=x))"
   ]
  },
  {
   "cell_type": "code",
   "execution_count": null,
   "metadata": {},
   "outputs": [],
   "source": [
    "sns.countplot('posa_continent', hue='hotel_continent',data=train_data ,palette=\"Set3\")\n",
    "plt.savefig(\"posa_continent X hotel_continent.jpg\")"
   ]
  },
  {
   "cell_type": "code",
   "execution_count": null,
   "metadata": {},
   "outputs": [],
   "source": [
    "sns.countplot('hotel_continent', hue='posa_continent',data=train_data ,palette=\"Set3\")\n",
    "plt.savefig(\"hotel_continent X posa_continent.jpg\")"
   ]
  },
  {
   "cell_type": "code",
   "execution_count": null,
   "metadata": {},
   "outputs": [],
   "source": [
    "plt.figure(figsize=(100, 20))\n",
    "sns.countplot('srch_ci_mm', hue='hotel_cluster',data=train_data)\n",
    "plt.savefig(\"srch_ci_mm X hotel_cluster.jpg\")"
   ]
  },
  {
   "cell_type": "code",
   "execution_count": null,
   "metadata": {},
   "outputs": [],
   "source": [
    "plt.figure(figsize=(100, 20))\n",
    "sns.countplot('hotel_cluster', hue='srch_ci_mm',data=train_data)\n",
    "plt.savefig(\"hotel_cluster X srch_ci_mm.jpg\")"
   ]
  },
  {
   "cell_type": "code",
   "execution_count": null,
   "metadata": {},
   "outputs": [],
   "source": [
    "sns.scatterplot(train_data['user_location_country'],train_data['posa_continent'])"
   ]
  },
  {
   "cell_type": "code",
   "execution_count": null,
   "metadata": {},
   "outputs": [],
   "source": [
    "sns.scatterplot(train_data['hotel_continent'],train_data['user_location_country'])"
   ]
  },
  {
   "cell_type": "code",
   "execution_count": null,
   "metadata": {},
   "outputs": [],
   "source": [
    "sns.scatterplot(train_data['posa_continent'],train_data['site_name'])"
   ]
  },
  {
   "cell_type": "code",
   "execution_count": null,
   "metadata": {},
   "outputs": [],
   "source": []
  }
 ],
 "metadata": {
  "kernelspec": {
   "display_name": "Python 3",
   "language": "python",
   "name": "python3"
  },
  "language_info": {
   "codemirror_mode": {
    "name": "ipython",
    "version": 3
   },
   "file_extension": ".py",
   "mimetype": "text/x-python",
   "name": "python",
   "nbconvert_exporter": "python",
   "pygments_lexer": "ipython3",
   "version": "3.7.3"
  }
 },
 "nbformat": 4,
 "nbformat_minor": 2
}
