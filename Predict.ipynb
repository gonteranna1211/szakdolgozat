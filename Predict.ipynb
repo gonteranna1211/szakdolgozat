{
 "cells": [
  {
   "cell_type": "code",
   "execution_count": 1,
   "metadata": {},
   "outputs": [],
   "source": [
    "import pandas as pd\n",
    "import numpy as np\n",
    "from time import gmtime, strftime\n",
    "import datetime\n",
    "\n",
    "from sklearn.neighbors import KNeighborsClassifier\n",
    "from sklearn import tree\n",
    "from sklearn import svm\n",
    "from sklearn.ensemble import AdaBoostClassifier\n",
    "from sklearn.neural_network import MLPClassifier\n",
    "from sklearn.naive_bayes import GaussianNB\n",
    "from sklearn.naive_bayes import BernoulliNB\n",
    "from sklearn.naive_bayes import ComplementNB\n",
    "from sklearn.naive_bayes import MultinomialNB\n",
    "from sklearn.ensemble import RandomForestClassifier"
   ]
  },
  {
   "cell_type": "code",
   "execution_count": 2,
   "metadata": {},
   "outputs": [],
   "source": [
    "train_data = pd.read_csv('data/train_clean_booked.csv', delimiter=',')"
   ]
  },
  {
   "cell_type": "code",
   "execution_count": 3,
   "metadata": {},
   "outputs": [],
   "source": [
    "test_data = pd.read_csv('data/test_modified.csv', delimiter=',')"
   ]
  },
  {
   "cell_type": "code",
   "execution_count": 4,
   "metadata": {},
   "outputs": [],
   "source": [
    "columns = ['user_id','user_location_country','srch_adults_cnt','srch_rm_cnt',\n",
    "           'channel','site_name','srch_children_cnt','user_location_region', \n",
    "           'posa_continent','hotel_continent','srch_destination_type_id',\n",
    "           'orig_destination_distance','srch_ci_year','srch_ci_day','srch_ci_mm']\n",
    "\n",
    "train_data = train_data.drop(columns, axis=1)\n",
    "train_data=train_data.drop(['is_booking', 'cnt'], axis=1)\n",
    "\n",
    "test_data = test_data.drop(columns, axis=1)"
   ]
  },
  {
   "cell_type": "code",
   "execution_count": 5,
   "metadata": {},
   "outputs": [
    {
     "data": {
      "text/plain": [
       "Index(['user_location_city', 'is_mobile', 'is_package', 'srch_destination_id',\n",
       "       'hotel_country', 'hotel_market', 'hotel_cluster', 'srch_ci_season',\n",
       "       'srch_ppl_cnt', 'stay_duration_day', 'search_duration_day'],\n",
       "      dtype='object')"
      ]
     },
     "execution_count": 5,
     "metadata": {},
     "output_type": "execute_result"
    }
   ],
   "source": [
    "train_data.columns"
   ]
  },
  {
   "cell_type": "code",
   "execution_count": 6,
   "metadata": {},
   "outputs": [
    {
     "data": {
      "text/plain": [
       "Index(['id', 'user_location_city', 'is_mobile', 'is_package',\n",
       "       'srch_destination_id', 'hotel_country', 'hotel_market',\n",
       "       'srch_ci_season', 'srch_ppl_cnt', 'stay_duration_day',\n",
       "       'search_duration_day'],\n",
       "      dtype='object')"
      ]
     },
     "execution_count": 6,
     "metadata": {},
     "output_type": "execute_result"
    }
   ],
   "source": [
    "test_data.columns"
   ]
  },
  {
   "cell_type": "code",
   "execution_count": 7,
   "metadata": {},
   "outputs": [],
   "source": [
    "test_ids = test_data.pop('id') "
   ]
  },
  {
   "cell_type": "code",
   "execution_count": 8,
   "metadata": {},
   "outputs": [],
   "source": [
    "train_y = train_data.pop('hotel_cluster').values.astype('int')\n",
    "train_x = train_data.values\n",
    "test_x = test_data.values"
   ]
  },
  {
   "cell_type": "code",
   "execution_count": 9,
   "metadata": {},
   "outputs": [],
   "source": [
    "def get_five_best(lista=[]):\n",
    "    result=[]\n",
    "    for i in range(0,5):\n",
    "        list_max_value = max(lista)\n",
    "        list_max_index = lista.index(list_max_value)\n",
    "        if(list_max_value>0):\n",
    "            result.append(list_max_index)\n",
    "            del lista[list_max_index]\n",
    "    return str(result).replace(',', '').replace('[','').replace(']','')"
   ]
  },
  {
   "cell_type": "code",
   "execution_count": 10,
   "metadata": {},
   "outputs": [],
   "source": [
    "clf = KNeighborsClassifier(leaf_size = 200, n_neighbors = 30, weights = 'distance')\n",
    "#clf = KNeighborsClassifier(leaf_size = 200, n_neighbors = 40, weights = 'distance')\n",
    "#clf = KNeighborsClassifier(leaf_size = 200, n_neighbors = 200, weights = 'distance')\n",
    "#clf = KNeighborsClassifier(leaf_size = 20, n_neighbors = 100, weights = 'distance')\n",
    "#clf = KNeighborsClassifier(leaf_size = 100, n_neighbors = 5, weights = 'distance')\n",
    "#clf = KNeighborsClassifier(leaf_size = 200, n_neighbors = 50, weights = 'distance')\n",
    "#clf = KNeighborsClassifier(leaf_size = 200, n_neighbors = 10, weights = 'distance')\n",
    "#clf = KNeighborsClassifier(leaf_size = 200, n_neighbors = 150, weights = 'distance')\n",
    "\n",
    "\n",
    "#clf = tree.DecisionTreeClassifier(max_depth = 9, min_samples_leaf = 0.001, min_samples_split = 20)\n",
    "#clf = tree.DecisionTreeClassifier(max_depth = 9, min_samples_leaf = 5, min_samples_split = 5)\n",
    "#clf = tree.DecisionTreeClassifier(max_depth = 9, min_samples_leaf = 0.001, min_samples_split = 10)\n",
    "#clf = tree.DecisionTreeClassifier(max_depth = 10, min_samples_leaf = 5, min_samples_split = 75)\n",
    "#clf = tree.DecisionTreeClassifier(max_depth = 9, min_samples_leaf = 5, min_samples_split = 50)\n",
    "#clf = tree.DecisionTreeClassifier(max_depth = 9, min_samples_leaf = 5, min_samples_split = 10)\n",
    "#clf = tree.DecisionTreeClassifier(max_depth = 24, min_samples_leaf = 1, min_samples_split = 25)\n",
    "#clf = tree.DecisionTreeClassifier(max_depth = 32, min_samples_leaf = 1, min_samples_split = 25)\n",
    "#clf = tree.DecisionTreeClassifier(max_depth = 10, min_samples_leaf = 0.01, min_samples_split = 20)\n",
    "#clf = tree.DecisionTreeClassifier(max_depth = 10, min_samples_leaf = 5, min_samples_split = 5)\n",
    "#clf = tree.DecisionTreeClassifier(max_depth = 16, min_samples_leaf = 1, min_samples_split = 25)\n",
    "#clf = tree.DecisionTreeClassifier(max_depth = 10, min_samples_leaf = 5, min_samples_split = 10)\n",
    "\n",
    "\n",
    "#clf = RandomForestClassifier(max_depth = 16, min_samples_leaf = 1, min_samples_split = 0.1, n_estimators = 32)\n",
    "#clf = RandomForestClassifier(max_depth = 32, min_samples_leaf = 0.01, min_samples_split = 5, n_estimators = 32)\n",
    "#clf = RandomForestClassifier(max_depth = 10, min_samples_leaf = 1, min_samples_split = 25, n_estimators = 100)\n",
    "#clf = RandomForestClassifier(max_depth = 9, min_samples_leaf = 1, min_samples_split = 10, n_estimators = 75)\n",
    "#clf = RandomForestClassifier(max_depth = 16, min_samples_leaf = 1, min_samples_split = 25, n_estimators = 75)\n",
    "#clf = RandomForestClassifier(max_depth = 100, min_samples_leaf = 10, min_samples_split = 5, n_estimators = 75)\n",
    "#clf = RandomForestClassifier(max_depth = 25, min_samples_leaf = 1, min_samples_split = 50, n_estimators = 100)\n",
    "#clf = RandomForestClassifier(max_depth = 50, min_samples_leaf = 1, min_samples_split = 50, n_estimators = 100)\n",
    "#clf = RandomForestClassifier(max_depth = 10, min_samples_leaf = 0.01, min_samples_split = 10, n_estimators = 50)\n",
    "#clf = RandomForestClassifier(max_depth = 9, min_samples_leaf = 10, min_samples_split = 5, n_estimators = 75)\n",
    "#clf = RandomForestClassifier(max_depth = None, min_samples_leaf = 1, min_samples_split = 50, n_estimators = 100)\n",
    "#clf = RandomForestClassifier(max_depth = 16, min_samples_leaf = 1, min_samples_split = 25, n_estimators = 100)\n",
    " \n",
    "    \n",
    "#clf = AdaBoostClassifier(learning_rate = 1, n_estimators = 100)\n",
    "#clf = AdaBoostClassifier(learning_rate = 0.1, n_estimators = 1)\n",
    "#clf = AdaBoostClassifier(learning_rate = 1, n_estimators = 25)\n",
    "#clf = AdaBoostClassifier(learning_rate = 1, n_estimators = 10)\n",
    "\n",
    "\n",
    "#clf = svm.SVC(C = 0.1, gamma = 0.1, kernel = 'rbf')\n",
    "#clf = svm.SVC(C = 1, gamma = 0.001, kernel = 'rbf') \n",
    "#clf = svm.SVC(C = 10, gamma = 0.05, kernel = 'rbf') \n",
    "#clf = svm.SVC(C = 10, gamma = 0.1, kernel = 'rbf') \n",
    "\n",
    "\n",
    "#clf = MLPClassifier(alpha = 0.0001, hidden_layer_sizes = (50,100,50), learning_rate = 'constant', solver = 'sgd')\n",
    "#clf = MLPClassifier(alpha = 0.0001, hidden_layer_sizes = (100,), learning_rate = 'adaptive', solver = 'sgd')\n",
    "#clf = MLPClassifier(alpha = 0.001, hidden_layer_sizes = (50,50,50), learning_rate = 'constant', solver = 'sgd')\n",
    "#clf = MLPClassifier(alpha = 0.05, hidden_layer_sizes = (50,50,50), learning_rate = 'adaptive', solver = 'sgd')\n",
    "\n",
    "\n",
    "#clf = GaussianNB()"
   ]
  },
  {
   "cell_type": "markdown",
   "metadata": {},
   "source": [
    "## Probabilty Predict"
   ]
  },
  {
   "cell_type": "code",
   "execution_count": 11,
   "metadata": {},
   "outputs": [
    {
     "name": "stdout",
     "output_type": "stream",
     "text": [
      "training start: 2020-04-20 18:21:27.106602\n",
      "predict start: 2020-04-20 18:21:27.107606\n",
      "predict end: 2020-04-20 18:21:27.109605\n"
     ]
    }
   ],
   "source": [
    "print(\"training start: {}\".format(datetime.datetime.now()))\n",
    "clf.fit(train_x, train_y)\n",
    "print(\"predict start: {}\".format(datetime.datetime.now()))\n",
    "test_y = clf.predict_proba(test_x)\n",
    "print(\"predict end: {}\".format(datetime.datetime.now()))"
   ]
  },
  {
   "cell_type": "code",
   "execution_count": 12,
   "metadata": {},
   "outputs": [
    {
     "name": "stdout",
     "output_type": "stream",
     "text": [
      "write end: 2020-04-20 18:21:27.424204\n"
     ]
    }
   ],
   "source": [
    "content = 'id,hotel_cluster\\n'\n",
    "for index, row in test_data.iterrows():\n",
    "    content += str(index) + ',' + get_five_best(list(test_y[index])) + '\\n'\n",
    "file_name = 'result_' + strftime(\"%d%b%Y%H%M%S\", gmtime()) + '.txt'\n",
    "f = open(file_name, 'w')\n",
    "f.write(content)\n",
    "content\n",
    "f.close()\n",
    "print(\"write end: {}\".format(datetime.datetime.now()))"
   ]
  },
  {
   "cell_type": "code",
   "execution_count": null,
   "metadata": {},
   "outputs": [],
   "source": []
  }
 ],
 "metadata": {
  "kernelspec": {
   "display_name": "Python 3",
   "language": "python",
   "name": "python3"
  },
  "language_info": {
   "codemirror_mode": {
    "name": "ipython",
    "version": 3
   },
   "file_extension": ".py",
   "mimetype": "text/x-python",
   "name": "python",
   "nbconvert_exporter": "python",
   "pygments_lexer": "ipython3",
   "version": "3.7.3"
  }
 },
 "nbformat": 4,
 "nbformat_minor": 2
}
