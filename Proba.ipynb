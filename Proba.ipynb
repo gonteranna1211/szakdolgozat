{
 "cells": [
  {
   "cell_type": "code",
   "execution_count": 2,
   "metadata": {},
   "outputs": [],
   "source": [
    "import numpy as np\n",
    "import pandas as pd"
   ]
  },
  {
   "cell_type": "code",
   "execution_count": 32,
   "metadata": {},
   "outputs": [],
   "source": [
    "def most_popular(group, n_max=5):\n",
    "    relevance = group['relevance'].values\n",
    "    hotel_cluster = group['hotel_cluster'].values\n",
    "    most_popular = hotel_cluster[np.argsort(relevance)[::-1]][:n_max]\n",
    "    return np.array_str(most_popular)[1:-1] # remove square brackets\n",
    "\n",
    "def predict(col1, col2):\n",
    "    train = pd.read_csv('data/train.csv',\n",
    "                    usecols=[col1, col2,'hotel_cluster'],\n",
    "                    chunksize=1000000)\n",
    "\n",
    "    aggs = []\n",
    "    print('-'*38)\n",
    "    for chunk in train:\n",
    "        agg = chunk.groupby([col2,\n",
    "                             'hotel_cluster'])[col1].agg(['sum','count'])\n",
    "        agg.reset_index(inplace=True)\n",
    "        aggs.append(agg)\n",
    "        print('.',end='')\n",
    "    print('')\n",
    "    aggs = pd.concat(aggs, axis=0)\n",
    "    \n",
    "    CLICK_WEIGHT = 0.05\n",
    "    agg = aggs.groupby([col2,'hotel_cluster']).sum().reset_index()\n",
    "    agg['count'] -= agg['sum']\n",
    "    agg = agg.rename(columns={'sum':'bookings','count':'clicks'})\n",
    "    agg['relevance'] = agg['bookings'] + CLICK_WEIGHT * agg['clicks']\n",
    "    \n",
    "    most_pop = agg.groupby([col2]).apply(most_popular)\n",
    "    most_pop = pd.DataFrame(most_pop).rename(columns={0:'hotel_cluster'})\n",
    "    \n",
    "    test = pd.read_csv('data/test.csv',\n",
    "                    usecols=[col2],)\n",
    "    \n",
    "    test = test.merge(most_pop, how='left',left_on=col2,right_index=True)\n",
    "    \n",
    "    test.hotel_cluster.isnull().sum()\n",
    "    \n",
    "    most_pop_all = agg.groupby('hotel_cluster')['relevance'].sum().nlargest(5).index\n",
    "    most_pop_all = np.array_str(most_pop_all)[1:-1]\n",
    "    \n",
    "    test.hotel_cluster.fillna(most_pop_all,inplace=True)\n",
    "    \n",
    "    test.hotel_cluster.to_csv('{},{}.csv'.format(col1,col2),header=True, index_label='id')"
   ]
  },
  {
   "cell_type": "code",
   "execution_count": 33,
   "metadata": {},
   "outputs": [
    {
     "name": "stdout",
     "output_type": "stream",
     "text": [
      "--------------------------------------\n",
      "......................................\n"
     ]
    }
   ],
   "source": [
    "predict('is_booking', 'hotel_market')"
   ]
  },
  {
   "cell_type": "code",
   "execution_count": null,
   "metadata": {},
   "outputs": [],
   "source": []
  }
 ],
 "metadata": {
  "kernelspec": {
   "display_name": "Python 3",
   "language": "python",
   "name": "python3"
  },
  "language_info": {
   "codemirror_mode": {
    "name": "ipython",
    "version": 3
   },
   "file_extension": ".py",
   "mimetype": "text/x-python",
   "name": "python",
   "nbconvert_exporter": "python",
   "pygments_lexer": "ipython3",
   "version": "3.7.3"
  }
 },
 "nbformat": 4,
 "nbformat_minor": 2
}
