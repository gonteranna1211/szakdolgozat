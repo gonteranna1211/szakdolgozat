{
 "cells": [
  {
   "cell_type": "code",
   "execution_count": null,
   "metadata": {},
   "outputs": [],
   "source": [
    "# A használt könyvtárak beolvasása\n",
    "import pandas as pd\n",
    "import numpy as np"
   ]
  },
  {
   "cell_type": "code",
   "execution_count": null,
   "metadata": {},
   "outputs": [],
   "source": [
    "train_data = pd.read_csv('train.csv', delimiter=',')"
   ]
  },
  {
   "cell_type": "code",
   "execution_count": null,
   "metadata": {},
   "outputs": [],
   "source": [
    "# Keresési dátumok szétbontása év, hónap, napra\n",
    "train_data[[\"search_year\", \"search_mm\", \"day-time\"]] = train_data[\"date_time\"].str.split(\"-\", expand=True)\n",
    "train_data[[\"search_day\", \"time\"]] = train_data[\"day-time\"].str.split(\" \", expand=True)\n",
    "train_data[[\"srch_ci_year\", \"srch_ci_mm\", \"srch_ci_day\"]] = train_data[\"srch_ci\"].str.split(\"-\", expand=True)\n",
    "train_data = train_data.drop(columns=['day-time', 'time'])"
   ]
  },
  {
   "cell_type": "code",
   "execution_count": null,
   "metadata": {},
   "outputs": [],
   "source": [
    "# Hónapokból évszakok kiszámítása\n",
    "def get_season(mm=\"\"):\n",
    "    if type(mm)==float:\n",
    "        return None\n",
    "    else:\n",
    "        mm=int(mm)\n",
    "    seasons={\n",
    "        \"1\": [12,1,2], #winter\n",
    "        \"2\": [3,4,5],  #spring\n",
    "        \"3\": [6,7,8],  #summer\n",
    "        \"4\": [9,10,11] #autumn\n",
    "    }\n",
    "    for season in seasons.keys():\n",
    "        if mm in seasons[season]:\n",
    "            return season\n",
    "\n",
    "train_data['srch_ci_season']=train_data['srch_ci_mm'].apply(lambda x: get_season(x))"
   ]
  },
  {
   "cell_type": "code",
   "execution_count": null,
   "metadata": {},
   "outputs": [],
   "source": [
    "def calc_duration(fromDate, toDate):\n",
    "    try: \n",
    "        return (pd.Timestamp(fromDate) - pd.Timestamp(toDate)).days\n",
    "    except:\n",
    "        print(fromDate, toDate)\n",
    "        return None"
   ]
  },
  {
   "cell_type": "code",
   "execution_count": null,
   "metadata": {},
   "outputs": [],
   "source": [
    "train_data['stay_duration_day'] = train_data.apply(lambda x: calc_duration(x['srch_co'], x['srch_ci']),axis=1)"
   ]
  },
  {
   "cell_type": "code",
   "execution_count": null,
   "metadata": {},
   "outputs": [],
   "source": [
    "train_data['search_duration_day'] = train_data.apply(lambda x: calc_duration(x['srch_ci'], x['date_time']), axis=1)"
   ]
  },
  {
   "cell_type": "code",
   "execution_count": null,
   "metadata": {},
   "outputs": [],
   "source": [
    "# Nan értékek száma az oszlopokban\n",
    "sns.heatmap(train_data.isnull())\n",
    "plt.savefig(\"nan_columns.jpg\")\n",
    "\n",
    "# Nan értékek pontos száma\n",
    "print(sum(pd.isnull(train_data['orig_destination_distance'])))\n",
    "print(sum(pd.isnull(train_data['srch_ci'])))\n",
    "print(sum(pd.isnull(train_data['srch_co'])))"
   ]
  },
  {
   "cell_type": "code",
   "execution_count": null,
   "metadata": {},
   "outputs": [],
   "source": [
    "#Null adatok törlése\n",
    "train_data[train_data['stay_duration_day']<=0] = None\n",
    "train_data[train_data['search_duration_day']<0] = None"
   ]
  },
  {
   "cell_type": "code",
   "execution_count": null,
   "metadata": {},
   "outputs": [],
   "source": [
    "#A felesleges és a dátum oszlopok törlése\n",
    "columns=['srch_ci', 'srch_co', 'date_time', 'posa_continent', 'orig_destination_distance', 'channel']\n",
    "train_data= train_data.drop(columns, axis=1)"
   ]
  },
  {
   "cell_type": "code",
   "execution_count": null,
   "metadata": {},
   "outputs": [],
   "source": [
    "train_data.to_csv(\"modified_train.csv\", sep=',')"
   ]
  },
  {
   "cell_type": "code",
   "execution_count": null,
   "metadata": {},
   "outputs": [],
   "source": [
    "data = pd.read_csv('modified_train.csv')"
   ]
  },
  {
   "cell_type": "code",
   "execution_count": null,
   "metadata": {},
   "outputs": [],
   "source": [
    "columns=['srch_ci', 'srch_co', 'posa_continent', 'orig_destination_distance', 'channel']\n",
    "data= data.drop(columns, axis=1)"
   ]
  },
  {
   "cell_type": "code",
   "execution_count": null,
   "metadata": {},
   "outputs": [],
   "source": [
    "data[0:2]\n",
    "data = data.drop(data.columns[[1]], axis=1)"
   ]
  },
  {
   "cell_type": "code",
   "execution_count": null,
   "metadata": {},
   "outputs": [],
   "source": [
    "data[0:2]"
   ]
  },
  {
   "cell_type": "code",
   "execution_count": null,
   "metadata": {},
   "outputs": [],
   "source": [
    "data.to_csv(\"modified_train.csv\", sep=',')"
   ]
  },
  {
   "cell_type": "code",
   "execution_count": null,
   "metadata": {},
   "outputs": [],
   "source": []
  }
 ],
 "metadata": {
  "kernelspec": {
   "display_name": "Python 3",
   "language": "python",
   "name": "python3"
  },
  "language_info": {
   "codemirror_mode": {
    "name": "ipython",
    "version": 3
   },
   "file_extension": ".py",
   "mimetype": "text/x-python",
   "name": "python",
   "nbconvert_exporter": "python",
   "pygments_lexer": "ipython3",
   "version": "3.7.3"
  }
 },
 "nbformat": 4,
 "nbformat_minor": 2
}
