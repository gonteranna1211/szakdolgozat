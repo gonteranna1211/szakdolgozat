{
 "cells": [
  {
   "cell_type": "code",
   "execution_count": 1,
   "metadata": {},
   "outputs": [],
   "source": [
    "import numpy as np\n",
    "import pandas as pd"
   ]
  },
  {
   "cell_type": "markdown",
   "metadata": {},
   "source": [
    "## Remove dirty data"
   ]
  },
  {
   "cell_type": "code",
   "execution_count": 2,
   "metadata": {},
   "outputs": [
    {
     "name": "stdout",
     "output_type": "stream",
     "text": [
      "Length of the cleaned train data: 24117894\n"
     ]
    }
   ],
   "source": [
    "with open('data/train.csv', 'r') as rf:\n",
    "    with open('data/train_clean.csv', 'w') as wf:\n",
    "        for line in rf:\n",
    "            if ',,' not in line and ',\\n' not in line:\n",
    "                wf.write(line)\n",
    "                \n",
    "train_clean = pd.read_csv('data/train_clean.csv', delimiter = ',')\n",
    "print(\"Length of the cleaned train data: {}\".format(len(train_clean)))"
   ]
  },
  {
   "cell_type": "markdown",
   "metadata": {},
   "source": [
    "# Modification function"
   ]
  },
  {
   "cell_type": "code",
   "execution_count": 3,
   "metadata": {},
   "outputs": [],
   "source": [
    "# Hónapokból évszakok kiszámítása\n",
    "def get_season(mm=\"\"):\n",
    "    if type(mm)==float:\n",
    "        return None\n",
    "    else:\n",
    "        mm=int(mm)\n",
    "    seasons={\n",
    "        \"1\": [12,1,2], #winter\n",
    "        \"2\": [3,4,5],  #spring\n",
    "        \"3\": [6,7,8],  #summer\n",
    "        \"4\": [9,10,11] #autumn\n",
    "    }\n",
    "    for season in seasons.keys():\n",
    "        if mm in seasons[season]:\n",
    "            return season\n",
    "\n",
    "def mod_df(data = pd.DataFrame()):\n",
    "    \n",
    "    # Keresési dátumok szétbontása év, hónap, napra\n",
    "    data[[\"srch_ci_year\", \"srch_ci_mm\", \"srch_ci_day\"]] = data[\"srch_ci\"].str.split(\"-\", expand=True)\n",
    "    \n",
    "    data['srch_ci_season']=data['srch_ci_mm'].apply(lambda x: get_season(x))\n",
    "    \n",
    "    data['srch_ppl_cnt'] = data.apply(lambda x: (x['srch_adults_cnt'] + x['srch_children_cnt']),axis=1)\n",
    "    \n",
    "    columns = ['date_time','user_id','user_location_country','srch_adults_cnt', \n",
    "               'channel','site_name','srch_children_cnt','user_location_region', \n",
    "               'srch_co','posa_continent','hotel_continent','srch_destination_type_id',\n",
    "               'srch_ci','orig_destination_distance','srch_ci_year','srch_ci_day','srch_ci_mm']\n",
    "    data = data.drop(columns, axis=1)\n",
    "    \n",
    "    data = data.fillna(0)\n",
    "    data = data.astype('int')\n",
    "    \n",
    "    return data"
   ]
  },
  {
   "cell_type": "markdown",
   "metadata": {},
   "source": [
    "### Create train data"
   ]
  },
  {
   "cell_type": "code",
   "execution_count": 4,
   "metadata": {
    "scrolled": true
   },
   "outputs": [
    {
     "name": "stdout",
     "output_type": "stream",
     "text": [
      "Length of the train data: 100000\n"
     ]
    }
   ],
   "source": [
    "read_every = 11\n",
    "with open('data/train_clean.csv', 'r') as rf:\n",
    "    with open('data/train_clean_100e_line.csv', 'w') as wf:\n",
    "        counter = 0\n",
    "        rows = 0\n",
    "        for line in rf:\n",
    "            if (counter == 0 or counter%read_every==0) and rows<=100000:\n",
    "                wf.write(line)\n",
    "                rows+=1\n",
    "            counter+=1\n",
    "            \n",
    "train_data = pd.read_csv('data/train_clean_100e_line.csv', delimiter = ',')\n",
    "print(\"Length of the train data: {}\".format(len(train_data)))"
   ]
  },
  {
   "cell_type": "code",
   "execution_count": 5,
   "metadata": {},
   "outputs": [
    {
     "data": {
      "text/plain": [
       "Index(['date_time', 'site_name', 'posa_continent', 'user_location_country',\n",
       "       'user_location_region', 'user_location_city',\n",
       "       'orig_destination_distance', 'user_id', 'is_mobile', 'is_package',\n",
       "       'channel', 'srch_ci', 'srch_co', 'srch_adults_cnt', 'srch_children_cnt',\n",
       "       'srch_rm_cnt', 'srch_destination_id', 'srch_destination_type_id',\n",
       "       'is_booking', 'cnt', 'hotel_continent', 'hotel_country', 'hotel_market',\n",
       "       'hotel_cluster'],\n",
       "      dtype='object')"
      ]
     },
     "execution_count": 5,
     "metadata": {},
     "output_type": "execute_result"
    }
   ],
   "source": [
    "train_data.columns"
   ]
  },
  {
   "cell_type": "code",
   "execution_count": 6,
   "metadata": {},
   "outputs": [],
   "source": [
    "train_data = mod_df(train_data)"
   ]
  },
  {
   "cell_type": "code",
   "execution_count": 7,
   "metadata": {},
   "outputs": [
    {
     "data": {
      "text/plain": [
       "Index(['user_location_city', 'is_mobile', 'is_package', 'srch_rm_cnt',\n",
       "       'srch_destination_id', 'is_booking', 'cnt', 'hotel_country',\n",
       "       'hotel_market', 'hotel_cluster', 'srch_ci_season', 'srch_ppl_cnt'],\n",
       "      dtype='object')"
      ]
     },
     "execution_count": 7,
     "metadata": {},
     "output_type": "execute_result"
    }
   ],
   "source": [
    "train_data.columns"
   ]
  },
  {
   "cell_type": "code",
   "execution_count": 8,
   "metadata": {},
   "outputs": [],
   "source": [
    "train_data.to_csv('data/train_clean_2m_line_modified.csv', sep=',', index=False)"
   ]
  },
  {
   "cell_type": "markdown",
   "metadata": {},
   "source": [
    "### Create validation data"
   ]
  },
  {
   "cell_type": "code",
   "execution_count": 9,
   "metadata": {},
   "outputs": [
    {
     "name": "stdout",
     "output_type": "stream",
     "text": [
      "Length of the validation data: 1000000\n"
     ]
    }
   ],
   "source": [
    "read_every = 19\n",
    "with open('data/train_clean.csv', 'r') as rf:\n",
    "    with open('data/validation_1m_line.csv', 'w') as wf:\n",
    "        counter = 0\n",
    "        rows = 0 \n",
    "        for line in rf:\n",
    "            if (counter == 0 or counter%read_every==0) and rows<=1000000:\n",
    "                wf.write(line)\n",
    "                rows+=1\n",
    "            counter+=1\n",
    "            \n",
    "validation_data = pd.read_csv('data/validation_1m_line.csv', delimiter = ',')\n",
    "print(\"Length of the validation data: {}\".format(len(validation_data)))"
   ]
  },
  {
   "cell_type": "code",
   "execution_count": 10,
   "metadata": {},
   "outputs": [
    {
     "data": {
      "text/plain": [
       "Index(['date_time', 'site_name', 'posa_continent', 'user_location_country',\n",
       "       'user_location_region', 'user_location_city',\n",
       "       'orig_destination_distance', 'user_id', 'is_mobile', 'is_package',\n",
       "       'channel', 'srch_ci', 'srch_co', 'srch_adults_cnt', 'srch_children_cnt',\n",
       "       'srch_rm_cnt', 'srch_destination_id', 'srch_destination_type_id',\n",
       "       'is_booking', 'cnt', 'hotel_continent', 'hotel_country', 'hotel_market',\n",
       "       'hotel_cluster'],\n",
       "      dtype='object')"
      ]
     },
     "execution_count": 10,
     "metadata": {},
     "output_type": "execute_result"
    }
   ],
   "source": [
    "validation_data.columns"
   ]
  },
  {
   "cell_type": "code",
   "execution_count": 11,
   "metadata": {},
   "outputs": [],
   "source": [
    "validation_data = mod_df(validation_data)"
   ]
  },
  {
   "cell_type": "code",
   "execution_count": 12,
   "metadata": {},
   "outputs": [
    {
     "data": {
      "text/plain": [
       "user_location_city     int64\n",
       "is_mobile              int64\n",
       "is_package             int64\n",
       "srch_rm_cnt            int64\n",
       "srch_destination_id    int64\n",
       "is_booking             int64\n",
       "cnt                    int64\n",
       "hotel_country          int64\n",
       "hotel_market           int64\n",
       "hotel_cluster          int64\n",
       "srch_ci_season         int64\n",
       "srch_ppl_cnt           int64\n",
       "dtype: object"
      ]
     },
     "execution_count": 12,
     "metadata": {},
     "output_type": "execute_result"
    }
   ],
   "source": [
    "validation_data.dtypes"
   ]
  },
  {
   "cell_type": "code",
   "execution_count": 13,
   "metadata": {},
   "outputs": [
    {
     "data": {
      "text/plain": [
       "Index(['user_location_city', 'is_mobile', 'is_package', 'srch_rm_cnt',\n",
       "       'srch_destination_id', 'is_booking', 'cnt', 'hotel_country',\n",
       "       'hotel_market', 'hotel_cluster', 'srch_ci_season', 'srch_ppl_cnt'],\n",
       "      dtype='object')"
      ]
     },
     "execution_count": 13,
     "metadata": {},
     "output_type": "execute_result"
    }
   ],
   "source": [
    "validation_data.columns"
   ]
  },
  {
   "cell_type": "code",
   "execution_count": 14,
   "metadata": {},
   "outputs": [],
   "source": [
    "validation_data.to_csv('data/validation_clean_1m_line_modified.csv', sep=',', index=False)"
   ]
  },
  {
   "cell_type": "markdown",
   "metadata": {},
   "source": [
    "## Create test data"
   ]
  },
  {
   "cell_type": "code",
   "execution_count": 15,
   "metadata": {},
   "outputs": [],
   "source": [
    "test_data = pd.read_csv('data/test.csv', delimiter = ',')"
   ]
  },
  {
   "cell_type": "code",
   "execution_count": 16,
   "metadata": {},
   "outputs": [
    {
     "data": {
      "text/plain": [
       "Index(['id', 'date_time', 'site_name', 'posa_continent',\n",
       "       'user_location_country', 'user_location_region', 'user_location_city',\n",
       "       'orig_destination_distance', 'user_id', 'is_mobile', 'is_package',\n",
       "       'channel', 'srch_ci', 'srch_co', 'srch_adults_cnt', 'srch_children_cnt',\n",
       "       'srch_rm_cnt', 'srch_destination_id', 'srch_destination_type_id',\n",
       "       'hotel_continent', 'hotel_country', 'hotel_market'],\n",
       "      dtype='object')"
      ]
     },
     "execution_count": 16,
     "metadata": {},
     "output_type": "execute_result"
    }
   ],
   "source": [
    "test_data.columns"
   ]
  },
  {
   "cell_type": "code",
   "execution_count": 17,
   "metadata": {},
   "outputs": [],
   "source": [
    "test_data = mod_df(test_data)"
   ]
  },
  {
   "cell_type": "code",
   "execution_count": 18,
   "metadata": {},
   "outputs": [
    {
     "data": {
      "text/plain": [
       "Index(['id', 'user_location_city', 'is_mobile', 'is_package', 'srch_rm_cnt',\n",
       "       'srch_destination_id', 'hotel_country', 'hotel_market',\n",
       "       'srch_ci_season', 'srch_ppl_cnt'],\n",
       "      dtype='object')"
      ]
     },
     "execution_count": 18,
     "metadata": {},
     "output_type": "execute_result"
    }
   ],
   "source": [
    "test_data.columns"
   ]
  },
  {
   "cell_type": "code",
   "execution_count": 19,
   "metadata": {},
   "outputs": [],
   "source": [
    "test_data.to_csv('data/test_modified.csv', sep=',', index=False)"
   ]
  },
  {
   "cell_type": "code",
   "execution_count": null,
   "metadata": {},
   "outputs": [],
   "source": []
  }
 ],
 "metadata": {
  "kernelspec": {
   "display_name": "Python 3",
   "language": "python",
   "name": "python3"
  },
  "language_info": {
   "codemirror_mode": {
    "name": "ipython",
    "version": 3
   },
   "file_extension": ".py",
   "mimetype": "text/x-python",
   "name": "python",
   "nbconvert_exporter": "python",
   "pygments_lexer": "ipython3",
   "version": "3.7.3"
  }
 },
 "nbformat": 4,
 "nbformat_minor": 2
}
