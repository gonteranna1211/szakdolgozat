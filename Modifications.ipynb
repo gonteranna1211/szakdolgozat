{
 "cells": [
  {
   "cell_type": "code",
   "execution_count": 1,
   "metadata": {},
   "outputs": [],
   "source": [
    "import numpy as np\n",
    "import pandas as pd"
   ]
  },
  {
   "cell_type": "markdown",
   "metadata": {},
   "source": [
    "# Modification functions"
   ]
  },
  {
   "cell_type": "code",
   "execution_count": 2,
   "metadata": {},
   "outputs": [],
   "source": [
    "# Hónapokból évszakok kiszámítása\n",
    "def get_season(mm=\"\"):\n",
    "    if type(mm)==float:\n",
    "        return None\n",
    "    else:\n",
    "        mm=int(mm)\n",
    "    seasons={\n",
    "        \"1\": [12,1,2], #winter\n",
    "        \"2\": [3,4,5],  #spring\n",
    "        \"3\": [6,7,8],  #summer\n",
    "        \"4\": [9,10,11] #autumn\n",
    "    }\n",
    "    for season in seasons.keys():\n",
    "        if mm in seasons[season]:\n",
    "            return season\n",
    "        \n",
    "        \n",
    "def calc_duration(fromDate, toDate):\n",
    "    try: \n",
    "        return (pd.Timestamp(fromDate) - pd.Timestamp(toDate)).days\n",
    "    except:\n",
    "        print(fromDate, toDate)\n",
    "        return None\n",
    "    \n",
    "\n",
    "def mod_df(data = pd.DataFrame()):\n",
    "    \n",
    "    # Keresési dátumok szétbontása év, hónap, napra\n",
    "    data[[\"srch_ci_year\", \"srch_ci_mm\", \"srch_ci_day\"]] = data[\"srch_ci\"].str.split(\"-\", expand=True)\n",
    "    \n",
    "    data['srch_ci_season']=data['srch_ci_mm'].apply(lambda x: get_season(x))\n",
    "    \n",
    "    data['srch_ppl_cnt'] = data.apply(lambda x: (x['srch_adults_cnt'] + x['srch_children_cnt']),axis=1)\n",
    "    \n",
    "    data['stay_duration_day'] = data.apply(lambda x: calc_duration(x['srch_co'], x['srch_ci']),axis=1)\n",
    "    \n",
    "    data['search_duration_day'] = data.apply(lambda x: calc_duration(x['srch_ci'], x['date_time']), axis=1)\n",
    "    \n",
    "    '''#Ezeket majd csak ott törlöm, ahol nem kellenek\n",
    "    columns = ['date_time','user_id','user_location_country','srch_adults_cnt', \n",
    "               'channel','site_name','srch_children_cnt','user_location_region', \n",
    "               'srch_co','posa_continent','hotel_continent','srch_destination_type_id',\n",
    "               'srch_ci','orig_destination_distance','srch_ci_year','srch_ci_day','srch_ci_mm']\n",
    "    data = data.drop(columns, axis=1)'''\n",
    "    \n",
    "    data = data.drop(['date_time', 'srch_ci', 'srch_co'], axis=1)\n",
    "    \n",
    "    data = data.fillna(0)\n",
    "    data = data.astype('int')\n",
    "    \n",
    "    return data"
   ]
  },
  {
   "cell_type": "markdown",
   "metadata": {},
   "source": [
    "## Remove dirty rows"
   ]
  },
  {
   "cell_type": "code",
   "execution_count": 3,
   "metadata": {},
   "outputs": [
    {
     "name": "stdout",
     "output_type": "stream",
     "text": [
      "Length of the cleaned train data: 24117894\n"
     ]
    }
   ],
   "source": [
    "with open('data/train.csv', 'r') as rf:\n",
    "    with open('data/train_clean.csv', 'w') as wf:\n",
    "        for line in rf:\n",
    "            if ',,' not in line and ',\\n' not in line:\n",
    "                wf.write(line)\n",
    "                \n",
    "train_clean = pd.read_csv('data/train_clean.csv', delimiter = ',')\n",
    "print(\"Length of the cleaned train data: {}\".format(len(train_clean)))"
   ]
  },
  {
   "cell_type": "markdown",
   "metadata": {},
   "source": [
    "### Remove not booked rows"
   ]
  },
  {
   "cell_type": "code",
   "execution_count": 4,
   "metadata": {},
   "outputs": [],
   "source": [
    "train_clean = mod_df(train_clean)"
   ]
  },
  {
   "cell_type": "code",
   "execution_count": 5,
   "metadata": {},
   "outputs": [],
   "source": [
    "train_clean.to_csv('data/train_clean_mod.csv', sep=',', index=False)"
   ]
  },
  {
   "cell_type": "code",
   "execution_count": 6,
   "metadata": {},
   "outputs": [],
   "source": [
    "train_clean = train_clean[(train_clean[['is_booking']] != 0).all(axis=1)]"
   ]
  },
  {
   "cell_type": "code",
   "execution_count": 7,
   "metadata": {},
   "outputs": [
    {
     "data": {
      "text/html": [
       "<div>\n",
       "<style scoped>\n",
       "    .dataframe tbody tr th:only-of-type {\n",
       "        vertical-align: middle;\n",
       "    }\n",
       "\n",
       "    .dataframe tbody tr th {\n",
       "        vertical-align: top;\n",
       "    }\n",
       "\n",
       "    .dataframe thead th {\n",
       "        text-align: right;\n",
       "    }\n",
       "</style>\n",
       "<table border=\"1\" class=\"dataframe\">\n",
       "  <thead>\n",
       "    <tr style=\"text-align: right;\">\n",
       "      <th></th>\n",
       "      <th>site_name</th>\n",
       "      <th>posa_continent</th>\n",
       "      <th>user_location_country</th>\n",
       "      <th>user_location_region</th>\n",
       "      <th>user_location_city</th>\n",
       "      <th>orig_destination_distance</th>\n",
       "      <th>user_id</th>\n",
       "      <th>is_mobile</th>\n",
       "      <th>is_package</th>\n",
       "      <th>channel</th>\n",
       "      <th>...</th>\n",
       "      <th>hotel_country</th>\n",
       "      <th>hotel_market</th>\n",
       "      <th>hotel_cluster</th>\n",
       "      <th>srch_ci_year</th>\n",
       "      <th>srch_ci_mm</th>\n",
       "      <th>srch_ci_day</th>\n",
       "      <th>srch_ci_season</th>\n",
       "      <th>srch_ppl_cnt</th>\n",
       "      <th>stay_duration_day</th>\n",
       "      <th>search_duration_day</th>\n",
       "    </tr>\n",
       "  </thead>\n",
       "  <tbody>\n",
       "    <tr>\n",
       "      <th>1</th>\n",
       "      <td>2</td>\n",
       "      <td>3</td>\n",
       "      <td>66</td>\n",
       "      <td>348</td>\n",
       "      <td>48862</td>\n",
       "      <td>2234</td>\n",
       "      <td>12</td>\n",
       "      <td>0</td>\n",
       "      <td>1</td>\n",
       "      <td>9</td>\n",
       "      <td>...</td>\n",
       "      <td>50</td>\n",
       "      <td>628</td>\n",
       "      <td>1</td>\n",
       "      <td>2014</td>\n",
       "      <td>8</td>\n",
       "      <td>29</td>\n",
       "      <td>3</td>\n",
       "      <td>2</td>\n",
       "      <td>4</td>\n",
       "      <td>17</td>\n",
       "    </tr>\n",
       "    <tr>\n",
       "      <th>18</th>\n",
       "      <td>2</td>\n",
       "      <td>3</td>\n",
       "      <td>66</td>\n",
       "      <td>462</td>\n",
       "      <td>41898</td>\n",
       "      <td>2454</td>\n",
       "      <td>1482</td>\n",
       "      <td>0</td>\n",
       "      <td>1</td>\n",
       "      <td>1</td>\n",
       "      <td>...</td>\n",
       "      <td>50</td>\n",
       "      <td>680</td>\n",
       "      <td>95</td>\n",
       "      <td>2014</td>\n",
       "      <td>2</td>\n",
       "      <td>22</td>\n",
       "      <td>1</td>\n",
       "      <td>3</td>\n",
       "      <td>5</td>\n",
       "      <td>49</td>\n",
       "    </tr>\n",
       "    <tr>\n",
       "      <th>20</th>\n",
       "      <td>2</td>\n",
       "      <td>3</td>\n",
       "      <td>66</td>\n",
       "      <td>462</td>\n",
       "      <td>41898</td>\n",
       "      <td>2454</td>\n",
       "      <td>1482</td>\n",
       "      <td>0</td>\n",
       "      <td>1</td>\n",
       "      <td>1</td>\n",
       "      <td>...</td>\n",
       "      <td>50</td>\n",
       "      <td>680</td>\n",
       "      <td>95</td>\n",
       "      <td>2014</td>\n",
       "      <td>2</td>\n",
       "      <td>22</td>\n",
       "      <td>1</td>\n",
       "      <td>2</td>\n",
       "      <td>5</td>\n",
       "      <td>49</td>\n",
       "    </tr>\n",
       "    <tr>\n",
       "      <th>22</th>\n",
       "      <td>2</td>\n",
       "      <td>3</td>\n",
       "      <td>66</td>\n",
       "      <td>462</td>\n",
       "      <td>41898</td>\n",
       "      <td>2454</td>\n",
       "      <td>1482</td>\n",
       "      <td>0</td>\n",
       "      <td>1</td>\n",
       "      <td>1</td>\n",
       "      <td>...</td>\n",
       "      <td>50</td>\n",
       "      <td>680</td>\n",
       "      <td>95</td>\n",
       "      <td>2014</td>\n",
       "      <td>2</td>\n",
       "      <td>24</td>\n",
       "      <td>1</td>\n",
       "      <td>2</td>\n",
       "      <td>3</td>\n",
       "      <td>51</td>\n",
       "    </tr>\n",
       "    <tr>\n",
       "      <th>59</th>\n",
       "      <td>2</td>\n",
       "      <td>3</td>\n",
       "      <td>66</td>\n",
       "      <td>174</td>\n",
       "      <td>40365</td>\n",
       "      <td>8456</td>\n",
       "      <td>1713</td>\n",
       "      <td>0</td>\n",
       "      <td>0</td>\n",
       "      <td>0</td>\n",
       "      <td>...</td>\n",
       "      <td>5</td>\n",
       "      <td>89</td>\n",
       "      <td>38</td>\n",
       "      <td>2014</td>\n",
       "      <td>11</td>\n",
       "      <td>11</td>\n",
       "      <td>4</td>\n",
       "      <td>2</td>\n",
       "      <td>1</td>\n",
       "      <td>12</td>\n",
       "    </tr>\n",
       "  </tbody>\n",
       "</table>\n",
       "<p>5 rows × 28 columns</p>\n",
       "</div>"
      ],
      "text/plain": [
       "    site_name  posa_continent  user_location_country  user_location_region  \\\n",
       "1           2               3                     66                   348   \n",
       "18          2               3                     66                   462   \n",
       "20          2               3                     66                   462   \n",
       "22          2               3                     66                   462   \n",
       "59          2               3                     66                   174   \n",
       "\n",
       "    user_location_city  orig_destination_distance  user_id  is_mobile  \\\n",
       "1                48862                       2234       12          0   \n",
       "18               41898                       2454     1482          0   \n",
       "20               41898                       2454     1482          0   \n",
       "22               41898                       2454     1482          0   \n",
       "59               40365                       8456     1713          0   \n",
       "\n",
       "    is_package  channel  ...  hotel_country  hotel_market  hotel_cluster  \\\n",
       "1            1        9  ...             50           628              1   \n",
       "18           1        1  ...             50           680             95   \n",
       "20           1        1  ...             50           680             95   \n",
       "22           1        1  ...             50           680             95   \n",
       "59           0        0  ...              5            89             38   \n",
       "\n",
       "    srch_ci_year  srch_ci_mm  srch_ci_day  srch_ci_season  srch_ppl_cnt  \\\n",
       "1           2014           8           29               3             2   \n",
       "18          2014           2           22               1             3   \n",
       "20          2014           2           22               1             2   \n",
       "22          2014           2           24               1             2   \n",
       "59          2014          11           11               4             2   \n",
       "\n",
       "    stay_duration_day  search_duration_day  \n",
       "1                   4                   17  \n",
       "18                  5                   49  \n",
       "20                  5                   49  \n",
       "22                  3                   51  \n",
       "59                  1                   12  \n",
       "\n",
       "[5 rows x 28 columns]"
      ]
     },
     "execution_count": 7,
     "metadata": {},
     "output_type": "execute_result"
    }
   ],
   "source": [
    "train_clean.head()"
   ]
  },
  {
   "cell_type": "code",
   "execution_count": 8,
   "metadata": {},
   "outputs": [
    {
     "name": "stdout",
     "output_type": "stream",
     "text": [
      "Length of the data: 1985514\n"
     ]
    }
   ],
   "source": [
    "print(\"Length of the data: {}\".format(len(train_clean)))"
   ]
  },
  {
   "cell_type": "code",
   "execution_count": 9,
   "metadata": {},
   "outputs": [],
   "source": [
    "train_clean.to_csv('data/train_clean_booked.csv', sep=',', index=False)"
   ]
  },
  {
   "cell_type": "markdown",
   "metadata": {},
   "source": [
    "### Create train data"
   ]
  },
  {
   "cell_type": "code",
   "execution_count": 10,
   "metadata": {
    "scrolled": true
   },
   "outputs": [
    {
     "name": "stdout",
     "output_type": "stream",
     "text": [
      "Length of the train data: 1000000\n"
     ]
    }
   ],
   "source": [
    "read_every = 23\n",
    "with open('data/train_clean.csv', 'r') as rf:\n",
    "    with open('data/train_clean_1m_line.csv', 'w') as wf:\n",
    "        counter = 0\n",
    "        rows = 0\n",
    "        for line in rf:\n",
    "            if (counter == 0 or counter%read_every==0) and rows<=1000000:\n",
    "                wf.write(line)\n",
    "                rows+=1\n",
    "            counter+=1\n",
    "            \n",
    "train_data = pd.read_csv('data/train_clean_1m_line.csv', delimiter = ',')\n",
    "print(\"Length of the train data: {}\".format(len(train_data)))"
   ]
  },
  {
   "cell_type": "code",
   "execution_count": 11,
   "metadata": {},
   "outputs": [],
   "source": [
    "train_data = mod_df(train_data)"
   ]
  },
  {
   "cell_type": "code",
   "execution_count": 12,
   "metadata": {},
   "outputs": [
    {
     "data": {
      "text/plain": [
       "Index(['site_name', 'posa_continent', 'user_location_country',\n",
       "       'user_location_region', 'user_location_city',\n",
       "       'orig_destination_distance', 'user_id', 'is_mobile', 'is_package',\n",
       "       'channel', 'srch_adults_cnt', 'srch_children_cnt', 'srch_rm_cnt',\n",
       "       'srch_destination_id', 'srch_destination_type_id', 'is_booking', 'cnt',\n",
       "       'hotel_continent', 'hotel_country', 'hotel_market', 'hotel_cluster',\n",
       "       'srch_ci_year', 'srch_ci_mm', 'srch_ci_day', 'srch_ci_season',\n",
       "       'srch_ppl_cnt', 'stay_duration_day', 'search_duration_day'],\n",
       "      dtype='object')"
      ]
     },
     "execution_count": 12,
     "metadata": {},
     "output_type": "execute_result"
    }
   ],
   "source": [
    "train_data.columns"
   ]
  },
  {
   "cell_type": "code",
   "execution_count": 13,
   "metadata": {},
   "outputs": [],
   "source": [
    "train_data.to_csv('data/train_clean_1m_line_mod.csv', sep=',', index=False)"
   ]
  },
  {
   "cell_type": "markdown",
   "metadata": {},
   "source": [
    "### Create validation data"
   ]
  },
  {
   "cell_type": "code",
   "execution_count": 14,
   "metadata": {},
   "outputs": [
    {
     "name": "stdout",
     "output_type": "stream",
     "text": [
      "Length of the validation data: 1000000\n"
     ]
    }
   ],
   "source": [
    "read_every = 19\n",
    "with open('data/train_clean.csv', 'r') as rf:\n",
    "    with open('data/validation_1m_line.csv', 'w') as wf:\n",
    "        counter = 0\n",
    "        rows = 0 \n",
    "        for line in rf:\n",
    "            if (counter == 0 or counter%read_every==0) and rows<=1000000:\n",
    "                wf.write(line)\n",
    "                rows+=1\n",
    "            counter+=1\n",
    "            \n",
    "validation_data = pd.read_csv('data/validation_1m_line.csv', delimiter = ',')\n",
    "print(\"Length of the validation data: {}\".format(len(validation_data)))"
   ]
  },
  {
   "cell_type": "code",
   "execution_count": 15,
   "metadata": {},
   "outputs": [],
   "source": [
    "validation_data = mod_df(validation_data)"
   ]
  },
  {
   "cell_type": "code",
   "execution_count": 16,
   "metadata": {},
   "outputs": [
    {
     "data": {
      "text/plain": [
       "Index(['site_name', 'posa_continent', 'user_location_country',\n",
       "       'user_location_region', 'user_location_city',\n",
       "       'orig_destination_distance', 'user_id', 'is_mobile', 'is_package',\n",
       "       'channel', 'srch_adults_cnt', 'srch_children_cnt', 'srch_rm_cnt',\n",
       "       'srch_destination_id', 'srch_destination_type_id', 'is_booking', 'cnt',\n",
       "       'hotel_continent', 'hotel_country', 'hotel_market', 'hotel_cluster',\n",
       "       'srch_ci_year', 'srch_ci_mm', 'srch_ci_day', 'srch_ci_season',\n",
       "       'srch_ppl_cnt', 'stay_duration_day', 'search_duration_day'],\n",
       "      dtype='object')"
      ]
     },
     "execution_count": 16,
     "metadata": {},
     "output_type": "execute_result"
    }
   ],
   "source": [
    "validation_data.columns"
   ]
  },
  {
   "cell_type": "code",
   "execution_count": 17,
   "metadata": {},
   "outputs": [],
   "source": [
    "validation_data.to_csv('data/validation_clean_1m_line_mod.csv', sep=',', index=False)"
   ]
  },
  {
   "cell_type": "markdown",
   "metadata": {},
   "source": [
    "## Create test data"
   ]
  },
  {
   "cell_type": "code",
   "execution_count": 18,
   "metadata": {},
   "outputs": [],
   "source": [
    "test_data = pd.read_csv('data/test.csv', delimiter = ',')"
   ]
  },
  {
   "cell_type": "code",
   "execution_count": 19,
   "metadata": {},
   "outputs": [
    {
     "data": {
      "text/plain": [
       "Index(['id', 'date_time', 'site_name', 'posa_continent',\n",
       "       'user_location_country', 'user_location_region', 'user_location_city',\n",
       "       'orig_destination_distance', 'user_id', 'is_mobile', 'is_package',\n",
       "       'channel', 'srch_ci', 'srch_co', 'srch_adults_cnt', 'srch_children_cnt',\n",
       "       'srch_rm_cnt', 'srch_destination_id', 'srch_destination_type_id',\n",
       "       'hotel_continent', 'hotel_country', 'hotel_market'],\n",
       "      dtype='object')"
      ]
     },
     "execution_count": 19,
     "metadata": {},
     "output_type": "execute_result"
    }
   ],
   "source": [
    "test_data.columns"
   ]
  },
  {
   "cell_type": "code",
   "execution_count": 20,
   "metadata": {},
   "outputs": [
    {
     "name": "stdout",
     "output_type": "stream",
     "text": [
      "2016-01-22 2161-10-00\n",
      "2161-10-00 2015-09-27 12:17:51\n"
     ]
    }
   ],
   "source": [
    "test_data = mod_df(test_data)"
   ]
  },
  {
   "cell_type": "code",
   "execution_count": 22,
   "metadata": {},
   "outputs": [],
   "source": [
    "test_data.to_csv('data/test_modified.csv', sep=',', index=False)"
   ]
  },
  {
   "cell_type": "code",
   "execution_count": null,
   "metadata": {},
   "outputs": [],
   "source": []
  }
 ],
 "metadata": {
  "kernelspec": {
   "display_name": "Python 3",
   "language": "python",
   "name": "python3"
  },
  "language_info": {
   "codemirror_mode": {
    "name": "ipython",
    "version": 3
   },
   "file_extension": ".py",
   "mimetype": "text/x-python",
   "name": "python",
   "nbconvert_exporter": "python",
   "pygments_lexer": "ipython3",
   "version": "3.7.6"
  }
 },
 "nbformat": 4,
 "nbformat_minor": 2
}
